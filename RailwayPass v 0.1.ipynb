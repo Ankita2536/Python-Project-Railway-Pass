{
 "cells": [
  {
   "cell_type": "code",
   "execution_count": 6,
   "id": "75a2eb0d-2cd0-48dc-84bb-d06dd952f603",
   "metadata": {},
   "outputs": [
    {
     "name": "stdout",
     "output_type": "stream",
     "text": [
      "Welcome to Mumbai Railway\n"
     ]
    },
    {
     "name": "stdin",
     "output_type": "stream",
     "text": [
      "Please enter your good name Anky\n"
     ]
    },
    {
     "name": "stdout",
     "output_type": "stream",
     "text": [
      "Hello Anky ,Welcome to Mumbai Railway\n",
      "******************************\n"
     ]
    },
    {
     "name": "stdin",
     "output_type": "stream",
     "text": [
      "Please enter your Departure location :  kalyan\n"
     ]
    },
    {
     "name": "stdout",
     "output_type": "stream",
     "text": [
      "Departure Lcation: Kalyan\n"
     ]
    },
    {
     "name": "stdin",
     "output_type": "stream",
     "text": [
      "Please enter your Destination :  kurla\n"
     ]
    },
    {
     "name": "stdout",
     "output_type": "stream",
     "text": [
      "Destination Location: Kurla\n",
      "******************************\n"
     ]
    },
    {
     "name": "stdin",
     "output_type": "stream",
     "text": [
      "Select the type of pass: Monthly,Quarterly,Annually monthly\n"
     ]
    },
    {
     "name": "stdout",
     "output_type": "stream",
     "text": [
      "Type of pass saved successfully: Monthly\n"
     ]
    },
    {
     "name": "stdin",
     "output_type": "stream",
     "text": [
      "Please enter your unique Adhar Id 9876787\n"
     ]
    },
    {
     "name": "stdout",
     "output_type": "stream",
     "text": [
      "Adhar No Saved successfully: 9876787\n"
     ]
    },
    {
     "name": "stdin",
     "output_type": "stream",
     "text": [
      "Select Class in which you wish to travel:First,Second or Handicapped:  first\n"
     ]
    },
    {
     "name": "stdout",
     "output_type": "stream",
     "text": [
      "User choses: First\n",
      "******************************\n",
      "For First Class: Kalyan to Kurla\n",
      "Kindly do enquiry at Ticket Pass Counter\n",
      "Pay respective ammount to the incharge officer at window\n",
      "Your Pass is printing...\n",
      "Thank you Anky .Happy Journey!!\n"
     ]
    }
   ],
   "source": [
    "def railway_pass():\n",
    "    #Mumbai Railway Pass booking botv0.1\n",
    "    print('Welcome to Mumbai Railway')\n",
    "    #Welcome to Mumbai Railway\n",
    "\n",
    "def name():\n",
    "    #Enter username\n",
    "    global rail_user\n",
    "    rail_user=input('Please enter your good name')\n",
    "\n",
    "def welcome_user():\n",
    "    #Greetings\n",
    "    print('Hello',rail_user,',Welcome to Mumbai Railway')\n",
    "    \n",
    "    print('*'*30)\n",
    "\n",
    "\n",
    "def journey_details():\n",
    "    global dep\n",
    "    global dest\n",
    "    #Departure loc\n",
    "    dep=input('Please enter your Departure location : ')\n",
    "    print('Departure Lcation:',dep.title())\n",
    "    #Destination\n",
    "    dest=input('Please enter your Destination : ')\n",
    "    print('Destination Location:',dest.title())\n",
    "    \n",
    "    print('*'*30)\n",
    "    \n",
    "def Pass_details():\n",
    "    #type of pass\n",
    "    global travel_class\n",
    "    type=input('Select the type of pass: Monthly,Quarterly,Annually')\n",
    "    print('Type of pass saved successfully:',type.title())\n",
    "    \n",
    "    if type.lower()!='monthly' and type.lower()!='quarterly' and type.lower!='annually':\n",
    "        print('Invalid Information')\n",
    "    \n",
    "    #Enter Adhar no\n",
    "    adhar_no=int(input('Please enter your unique Adhar Id'))\n",
    "    print('Adhar No Saved successfully:',adhar_no)\n",
    "    \n",
    "    #Class-1st,2nd,handicapped\n",
    "    travel_class=input('Select Class in which you wish to travel:First,Second or Handicapped: ')\n",
    "    print('User choses:',travel_class.title())\n",
    "    \n",
    "    #If Dep=Kalyan and dest=thane\n",
    "    #pay 215 Rs\n",
    "    \n",
    "    print('*'*30)\n",
    "    \n",
    "    \n",
    "    #For First Class and Monthly\n",
    "    #For First Class and Quarterly\n",
    "    #For First Class and Annually\n",
    "def travelling_by_class():\n",
    "    \n",
    "    if travel_class.lower()=='first':\n",
    "        print('For First Class:',dep.title(),'to',dest.title())\n",
    "    \n",
    "        if dep.lower()=='kalyan' and dest.lower()=='thane':\n",
    "            print('Monthly-Rs415 | Quarterly-Rs650 | Annually-Rs850')\n",
    "    \n",
    "        elif dep.lower()=='kalyan'and dest.lower()=='dadar':\n",
    "            print('Monthly-Rs515 | Quarterly-Rs700 | Annually-Rs950')\n",
    "    \n",
    "        elif dep.lower()=='kalyan' and dest.lower()=='csmt':\n",
    "            print('Monthly-Rs800 | Quarterly-Rs1200 | Annually-Rs1500')\n",
    "    \n",
    "        elif dep.lower()=='thane' and dest.lower()=='kurla':\n",
    "            print('Monthly-Rs400 | Quarterly-Rs750 | Annually-Rs1200')\n",
    "        \n",
    "        elif dep.lower()=='thane' and dest.lower()=='csmt':\n",
    "            print('Monthly-Rs500 | Quarterly-Rs800 | Annually-Rs1200')\n",
    "    \n",
    "        else:\n",
    "            print('Kindly do enquiry at Ticket Pass Counter')\n",
    "    \n",
    "    \n",
    "    \n",
    "    #For Second Class and Monthly\n",
    "    #For Second Class and Quarterly\n",
    "    #For Second Class and Annually\n",
    "    \n",
    "    elif travel_class.lower()=='second':\n",
    "        print('For Second Class:',dep.title(),'to',dest.title())\n",
    "    \n",
    "        if dep.lower()=='kalyan' and dest.lower()=='thane':\n",
    "            print('Monthly-Rs215 | Quarterly-Rs450 | Annually-Rs750')\n",
    "    \n",
    "        elif dep.lower()=='kalyan'and dest.lower()=='dadar':\n",
    "            print('Monthly-Rs315 | Quarterly-Rs500 | Annually-Rs850')\n",
    "    \n",
    "        elif dep.lower()=='kalyan' and dest.lower()=='csmt':\n",
    "            print('Monthly-Rs400 | Quarterly-Rs600 | Annually-Rs900')\n",
    "    \n",
    "        elif dep.lower()=='thane' and dest.lower()=='kurla':\n",
    "            print('Monthly-Rs300 | Quarterly-Rs450 | Annually-Rs600')\n",
    "    \n",
    "        elif dep.lower()=='thane' and dest.lower()=='csmt':\n",
    "            print('Monthly-Rs.400 | Quarterly-Rs600 | Annually-Rs800')\n",
    "    \n",
    "        else:\n",
    "            print('Kindly do enquiry at Ticket Pass Counter')\n",
    "    \n",
    "    \n",
    "    #For Handicapped Class and Monthly\n",
    "    #For Handicapped Class and Quarterly\n",
    "    #For Handicapped Class and Annally\n",
    "    \n",
    "    elif travel_class.lower()=='handicapped':\n",
    "        print('For Handicapped Class:',dep.title(),'to',dest.title())\n",
    "    \n",
    "        if dep.lower()=='kalyan' and dest.lower()=='thane':\n",
    "            print('Monthly-300 | Quarterly-Rs500 | Annually-Rs700')\n",
    "    \n",
    "        elif dep.lower()=='kalyan'and dest.lower()=='dadar':\n",
    "            print('Monthly-Rs415 | Quarterly-Rs600 | Annually-Rs750')\n",
    "    \n",
    "        elif dep.lower()=='kalyan' and dest.lower()=='csmt':\n",
    "            print('Monthly-400 | Quarterly-Rs600 | Annually-Rs800')\n",
    "    \n",
    "        elif dep.lower()=='thane' and dest.lower()=='kurla':\n",
    "            print('Monthly-Rs300 | Quarterly-Rs500 | Annually-Rs900')\n",
    "    \n",
    "        elif dep.lower()=='thane' and dest.lower()=='csmt':\n",
    "            print('Monthly-Rs500 | Quarterly-Rs800 | Annually-Rs1000')\n",
    "    \n",
    "        else:\n",
    "            print('Kindly do enquiry at Ticket Pass Counter')\n",
    "    \n",
    "    else:\n",
    "        print('Invalid Option Selected')\n",
    "    \n",
    "def payment_option():\n",
    "    #Fare\n",
    "    #STation master will check the fare chart and class chart\n",
    "\n",
    "    print('Pay respective ammount to the incharge officer at window')\n",
    "\n",
    "def thank_user():\n",
    "    #todays date+30 days\n",
    "    print('Your Pass is printing...')\n",
    "    #Pass is printing\n",
    "    #Thank you\n",
    "    print('Thank you',rail_user,'.Happy Journey!!')\n",
    "\n",
    "def order_process():\n",
    "        \n",
    "    railway_pass()\n",
    "    name()\n",
    "    welcome_user()\n",
    "    journey_details()\n",
    "    Pass_details()\n",
    "    travelling_by_class()\n",
    "    payment_option()\n",
    "    thank_user()\n",
    "\n",
    "import tkinter as tk\n",
    "window=tk.Tk()\n",
    "window.title('RailwayPass')\n",
    "window.geometry('550x500')\n",
    "tk.Label(window,text='Mumbai Railway Pass System',font=('Helvetica',22)).place(x=90,y=20)\n",
    "\n",
    "tk.Button(window,text='START',command=order_process,width=15,height=3 ).place(x=190,y=200)\n",
    "\n",
    "window.mainloop()\n",
    "\n",
    "\n"
   ]
  },
  {
   "cell_type": "code",
   "execution_count": null,
   "id": "d4730d5a-d8a7-429a-b279-95c24cae4a41",
   "metadata": {},
   "outputs": [],
   "source": []
  },
  {
   "cell_type": "code",
   "execution_count": null,
   "id": "b8e42be0-3536-4655-b3b2-94c76ca584e0",
   "metadata": {},
   "outputs": [],
   "source": [
    "    "
   ]
  },
  {
   "cell_type": "code",
   "execution_count": null,
   "id": "20a480be-1a51-4682-a78e-9839db0ef361",
   "metadata": {},
   "outputs": [],
   "source": []
  },
  {
   "cell_type": "code",
   "execution_count": null,
   "id": "5758a15c-e70d-4f62-acc1-f105fb037fa9",
   "metadata": {},
   "outputs": [],
   "source": []
  },
  {
   "cell_type": "code",
   "execution_count": null,
   "id": "85000e22-4581-465d-bd77-17644f699bd3",
   "metadata": {},
   "outputs": [],
   "source": []
  },
  {
   "cell_type": "code",
   "execution_count": null,
   "id": "602ee879-d067-4528-a7ba-75eec4fdea0b",
   "metadata": {},
   "outputs": [],
   "source": []
  },
  {
   "cell_type": "code",
   "execution_count": null,
   "id": "6f0bbec5-f407-4ce0-9e21-a9296b9b2a3e",
   "metadata": {},
   "outputs": [],
   "source": []
  },
  {
   "cell_type": "code",
   "execution_count": null,
   "id": "8a13ca3f-736e-4e90-bb7b-3e49bd5a87d3",
   "metadata": {},
   "outputs": [],
   "source": []
  },
  {
   "cell_type": "code",
   "execution_count": null,
   "id": "c0190820-ebd6-4238-a6d2-19d037580dfe",
   "metadata": {},
   "outputs": [],
   "source": []
  },
  {
   "cell_type": "code",
   "execution_count": null,
   "id": "241e3a57-a76a-4272-a156-ad07d9bf8260",
   "metadata": {},
   "outputs": [],
   "source": []
  }
 ],
 "metadata": {
  "kernelspec": {
   "display_name": "Python 3 (ipykernel)",
   "language": "python",
   "name": "python3"
  },
  "language_info": {
   "codemirror_mode": {
    "name": "ipython",
    "version": 3
   },
   "file_extension": ".py",
   "mimetype": "text/x-python",
   "name": "python",
   "nbconvert_exporter": "python",
   "pygments_lexer": "ipython3",
   "version": "3.11.7"
  }
 },
 "nbformat": 4,
 "nbformat_minor": 5
}
